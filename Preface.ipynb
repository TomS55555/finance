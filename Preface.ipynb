{
  "nbformat": 4,
  "nbformat_minor": 0,
  "metadata": {
    "colab": {
      "provenance": [],
      "authorship_tag": "ABX9TyNvtDacNCCksZ5raNHvnEZg",
      "include_colab_link": true
    },
    "kernelspec": {
      "name": "python3",
      "display_name": "Python 3"
    },
    "language_info": {
      "name": "python"
    }
  },
  "cells": [
    {
      "cell_type": "markdown",
      "metadata": {
        "id": "view-in-github",
        "colab_type": "text"
      },
      "source": [
        "<a href=\"https://colab.research.google.com/github/TomS55555/finance/blob/main/Preface.ipynb\" target=\"_parent\"><img src=\"https://colab.research.google.com/assets/colab-badge.svg\" alt=\"Open In Colab\"/></a>"
      ]
    },
    {
      "cell_type": "markdown",
      "source": [
        "# Preface exercises"
      ],
      "metadata": {
        "id": "2j_4TUuGnrMW"
      }
    },
    {
      "cell_type": "markdown",
      "source": [
        "## 1) The normal distribution and expectation\n",
        "Let $X\\sim N(μ, \\sigma^2)$ and $K$ be a constant, calculate:  \n",
        "1. $E[I\\{X>K\\}]$ where $I$ is the indicator function.  \n",
        "> $E[I\\{X>K\\}] = 1-Pr(X<K) = 1-𝚽(K)$  \n",
        "2. $E[\\max\\{K-X, 0\\}]$\n",
        "> $=\\int_{-∞}^K (K-x)f(x)dx$  where $f(x)=Pr(x<X<x+dx)=\\frac{1}{\\sigma\\sqrt{2\\pi}}\\exp(\\frac{-(x-\\mu)^2}{2\\sigma^2})$  \n",
        "> $=\\int_{-∞}^K (K-\\mu)f(x)dx-\\int_{-∞}^K (x-\\mu)f(x)dx$\n",
        "> > * $\\int_{-∞}^K (K-\\mu)f(x)dx=(K-\\mu)Pr(X<K)=(K-\\mu)𝚽(K)$  \n",
        "> > * $\\int_{-∞}^K (x-\\mu)f(x)dx = \\frac{1}{\\sigma\\sqrt{2\\pi}}\\int_{-\\infty}^K(x-\\mu)\\exp(\\frac{-(x-\\mu)^2}{2\\sigma^2})dx$ | choose $u=(x-\\mu)^2→du=2(x-\\mu)dx$   \n",
        "> > $ = \\frac{1}{2\\sigma\\sqrt{2\\pi}}\\int_{\\infty}^{(K-\\mu)^2}\\exp(\\frac{-u}{2\\sigma^2})du = \\frac{-1}{\\sqrt{2\\pi}}[\\exp(\\frac{-(K-\\mu)^2}{2\\sigma^2})-0]=-\\sigma f(K)$  \n",
        "> $E[\\max\\{K-X, 0\\}] = (K-\\mu)𝚽(K)+\\sigma f(K)$\n",
        "3. $E[\\exp(tX)]$ \n",
        "> $E[\\exp(tX)] = \\frac{1}{\\sigma\\sqrt{2\\pi}}\\int_{-∞}^{\\infty}\\exp(tx)\\exp(\\frac{-(x-\\mu)^2}{2\\sigma^2})dx$  \n",
        "> $=\\frac{1}{\\sigma\\sqrt{2\\pi}}\\int_{-∞}^{\\infty}\\exp(\\frac{2t\\sigma^2x-(x-\\mu)^2}{2\\sigma^2})dx$    \n",
        ">> $2t\\sigma^2x-(x-\\mu)^2 = 2t\\sigma^2x-x^2+2x\\mu-\\mu^2=-x^2+2x(t\\sigma^2+\\mu)-\\mu^2=-(x-\\mu-t\\sigma^2)^2+t^2\\sigma^4-2t\\mu\\sigma^2$\n"
      ],
      "metadata": {
        "id": "hWI8YTDdoiTv"
      }
    },
    {
      "cell_type": "code",
      "execution_count": null,
      "metadata": {
        "id": "NRcsEEOPnpe8"
      },
      "outputs": [],
      "source": []
    },
    {
      "cell_type": "code",
      "source": [],
      "metadata": {
        "id": "QV-x8wqs1k8E"
      },
      "execution_count": null,
      "outputs": []
    }
  ]
}