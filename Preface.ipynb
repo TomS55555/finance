{
  "nbformat": 4,
  "nbformat_minor": 0,
  "metadata": {
    "colab": {
      "provenance": [],
      "authorship_tag": "ABX9TyOKQbqKVoBV5KLvQhdbrF05",
      "include_colab_link": true
    },
    "kernelspec": {
      "name": "python3",
      "display_name": "Python 3"
    },
    "language_info": {
      "name": "python"
    }
  },
  "cells": [
    {
      "cell_type": "markdown",
      "metadata": {
        "id": "view-in-github",
        "colab_type": "text"
      },
      "source": [
        "<a href=\"https://colab.research.google.com/github/TomS55555/finance/blob/main/Preface.ipynb\" target=\"_parent\"><img src=\"https://colab.research.google.com/assets/colab-badge.svg\" alt=\"Open In Colab\"/></a>"
      ]
    },
    {
      "cell_type": "markdown",
      "source": [
        "# Preface exercises"
      ],
      "metadata": {
        "id": "2j_4TUuGnrMW"
      }
    },
    {
      "cell_type": "markdown",
      "source": [
        "## 1) The normal distribution and expectation\n",
        "Let $X\\sim N(μ, \\sigma^2)$ and $K$ be a constant, calculate:  \n",
        "1. $E[I\\{X>K\\}]$ where $I$ is the indicator function.  \n",
        "> $E[I\\{X>K\\}] = 1-Pr(X<K) = 1-𝚽(K)$  \n",
        "2. $E[\\max\\{K-X, 0\\}]$\n",
        "> $=\\int_{-∞}^K (K-x)f(x)dx$  where $f(x)=Pr(x<X<x+dx)=\\frac{1}{\\sigma\\sqrt{2\\pi}}\\exp(\\frac{-(x-\\mu)^2}{2\\sigma^2})$  \n",
        "$=\\int_{-∞}^K (K-\\mu)f(x)dx-\\int_{-∞}^K (x-\\mu)f(x)dx$\n",
        ">> * $\\int_{-∞}^K (K-\\mu)f(x)dx=(K-\\mu)Pr(X<K)=(K-\\mu)𝚽(K)$  \n",
        ">> * $\\int_{-∞}^K (x-\\mu)f(x)dx = \\frac{1}{\\sigma\\sqrt{2\\pi}}\\int_{-\\infty}^K(x-\\mu)\\exp(\\frac{-(x-\\mu)^2}{2\\sigma^2})dx$ | choose $u=(x-\\mu)^2$   \n",
        "$ = \\frac{1}{\\sigma\\sqrt{2\\pi}}\\int_{-\\infty}^K(x-\\mu)\\exp(\\frac{-u}{2\\sigma^2})dx$ "
      ],
      "metadata": {
        "id": "hWI8YTDdoiTv"
      }
    },
    {
      "cell_type": "code",
      "execution_count": null,
      "metadata": {
        "id": "NRcsEEOPnpe8"
      },
      "outputs": [],
      "source": []
    }
  ]
}